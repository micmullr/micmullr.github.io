{
 "cells": [
  {
   "cell_type": "markdown",
   "metadata": {},
   "source": [
    "Eine Bedarfskurve kann auf vier verschiedene Arten verlaufen: Sporadisch (unvorhersehbar), konstant (selbes Niveau), trendmäßig (steigend oder fallend) und saisonal (steigende und fallende Bereiche). \n",
    "\n",
    "\n",
    "| ![Verschiedene Arten von Bedarfsverläufe](/images/gleitende_durchschnitt/bedarfsverlauf.svg) |\n",
    "| :----------------------------------------------------------: |\n",
    "|      *Verschiedene Arten von Bedarfsverläufen*       |"
   ]
  },
  {
   "cell_type": "markdown",
   "metadata": {},
   "source": [
    "\n",
    "# Konstantes Niveau\n",
    "\n",
    "Bei einem konstanten Bedarf schwanken die Werte einer Zeitreihe unregelmäßig um ein konstantes Niveau. Es bieten sich zwei Instrumente zur Berechnung eines Prognosewertes an, den gleitenden Durchschnitt und die exponentielle Glättung erster Ordnung. \n",
    "\n",
    "\n",
    "\n",
    "Der gleitende Durchschnitt errechnet sich ähnlich wie der normale Mittelwert:\n",
    "\n",
    "$${{\\frac {1}{n}}\\sum _{i=1}^{n}{x_{i}}={\\frac {x_{1}+x_{2}+\\cdots +x_{n}}{n}}}$$\n",
    "\n",
    "$$oder$$\n",
    "\n",
    "$$\\hat{y}_{t+1} = \\frac{1}{T}\\sum^{t}_{\\tau=t-T+1} y_t$$\n",
    "\n",
    "\n",
    "Die Werte, aus denen der Mittelwert gebildet werden soll, werden addiert und die Summe wiederum durch die Anzahl der Werte geteilt. Die in die Prognose einbezogenen Vergangenheitswerte erhalten dieselbe Gewichtung."
   ]
  },
  {
   "cell_type": "markdown",
   "metadata": {},
   "source": [
    "# Problematiken\n",
    "Während eine große Menge an Werten generell vorteilhaft ist, um Ausreißer herauszufiltern, ist dies bei der Bedarfsermittlung eher von Nachteil, da auch Vorperioden betrachtet werden in denen das Unternehmen anders ausgerichtet war oder einen geringeren Marktanteil hatte.\n",
    "\n"
   ]
  },
  {
   "cell_type": "markdown",
   "metadata": {},
   "source": [
    "# Beispiel mit Python"
   ]
  },
  {
   "cell_type": "code",
   "execution_count": 1,
   "metadata": {},
   "outputs": [
    {
     "data": {
      "text/html": [
       "<div>\n",
       "<style scoped>\n",
       "    .dataframe tbody tr th:only-of-type {\n",
       "        vertical-align: middle;\n",
       "    }\n",
       "\n",
       "    .dataframe tbody tr th {\n",
       "        vertical-align: top;\n",
       "    }\n",
       "\n",
       "    .dataframe thead th {\n",
       "        text-align: right;\n",
       "    }\n",
       "</style>\n",
       "<table border=\"1\" class=\"dataframe\">\n",
       "  <thead>\n",
       "    <tr style=\"text-align: right;\">\n",
       "      <th></th>\n",
       "      <th>A</th>\n",
       "      <th>B</th>\n",
       "    </tr>\n",
       "  </thead>\n",
       "  <tbody>\n",
       "    <tr>\n",
       "      <th>0</th>\n",
       "      <td>1</td>\n",
       "      <td>106.8</td>\n",
       "    </tr>\n",
       "    <tr>\n",
       "      <th>1</th>\n",
       "      <td>2</td>\n",
       "      <td>129.2</td>\n",
       "    </tr>\n",
       "    <tr>\n",
       "      <th>2</th>\n",
       "      <td>3</td>\n",
       "      <td>153.0</td>\n",
       "    </tr>\n",
       "    <tr>\n",
       "      <th>3</th>\n",
       "      <td>4</td>\n",
       "      <td>149.1</td>\n",
       "    </tr>\n",
       "    <tr>\n",
       "      <th>4</th>\n",
       "      <td>5</td>\n",
       "      <td>158.3</td>\n",
       "    </tr>\n",
       "    <tr>\n",
       "      <th>5</th>\n",
       "      <td>6</td>\n",
       "      <td>132.9</td>\n",
       "    </tr>\n",
       "    <tr>\n",
       "      <th>6</th>\n",
       "      <td>7</td>\n",
       "      <td>149.8</td>\n",
       "    </tr>\n",
       "    <tr>\n",
       "      <th>7</th>\n",
       "      <td>8</td>\n",
       "      <td>140.3</td>\n",
       "    </tr>\n",
       "    <tr>\n",
       "      <th>8</th>\n",
       "      <td>9</td>\n",
       "      <td>138.3</td>\n",
       "    </tr>\n",
       "    <tr>\n",
       "      <th>9</th>\n",
       "      <td>10</td>\n",
       "      <td>152.2</td>\n",
       "    </tr>\n",
       "    <tr>\n",
       "      <th>10</th>\n",
       "      <td>11</td>\n",
       "      <td>128.1</td>\n",
       "    </tr>\n",
       "  </tbody>\n",
       "</table>\n",
       "</div>"
      ],
      "text/plain": [
       "     A      B\n",
       "0    1  106.8\n",
       "1    2  129.2\n",
       "2    3  153.0\n",
       "3    4  149.1\n",
       "4    5  158.3\n",
       "5    6  132.9\n",
       "6    7  149.8\n",
       "7    8  140.3\n",
       "8    9  138.3\n",
       "9   10  152.2\n",
       "10  11  128.1"
      ]
     },
     "execution_count": 1,
     "metadata": {},
     "output_type": "execute_result"
    }
   ],
   "source": [
    "import pandas as pd\n",
    "import numpy as np\n",
    "df = pd.read_csv('duschgel.csv',  sep = ';' ,decimal = ',', header = None )\n",
    "df.columns = ['A', 'B']\n",
    "df"
   ]
  },
  {
   "cell_type": "markdown",
   "metadata": {},
   "source": [
    "Man berechnet den Mittelwert, indem man die Summe der betrachteten Zahlen durch ihre Anzahl teilt."
   ]
  },
  {
   "cell_type": "code",
   "execution_count": 18,
   "metadata": {},
   "outputs": [
    {
     "data": {
      "text/plain": [
       "129.7"
      ]
     },
     "execution_count": 18,
     "metadata": {},
     "output_type": "execute_result"
    }
   ],
   "source": [
    "GD = (106.8 + 129.2 + 153.0) / 3\n",
    "np.round(GD,1)"
   ]
  },
  {
   "cell_type": "markdown",
   "metadata": {},
   "source": [
    "Um dies zu implementieren, verwenden Sie die iloc-Funktion von Pandas. Da Sie die Bedarfsspalte benötigen, legen Sie deren Position in der iloc-Funktion fest, während die Zeile eine Variable i ist, die Sie solange iterieren, bis Sie das Ende des Datenrahmens erreichen. Greife selektiv auf die Zeile 0 zu. Dazu verwende den Locator iloc.\n",
    "loc ruft Zeilen (und/oder Spalten) mit bestimmten Bezeichnungen ab.\n",
    "iloc holt Zeilen (und/oder Spalten) an ganzzahligen Positionen. Siehe: https://stackoverflow.com/questions/31593201/how-are-iloc-and-loc-different"
   ]
  },
  {
   "cell_type": "code",
   "execution_count": 13,
   "metadata": {},
   "outputs": [
    {
     "data": {
      "text/plain": [
       "A      1.0\n",
       "B    106.8\n",
       "Name: 0, dtype: float64"
      ]
     },
     "execution_count": 13,
     "metadata": {},
     "output_type": "execute_result"
    }
   ],
   "source": [
    "df.iloc[0]"
   ]
  },
  {
   "cell_type": "code",
   "execution_count": 10,
   "metadata": {},
   "outputs": [
    {
     "name": "stdout",
     "output_type": "stream",
     "text": [
      "106.8\n",
      "129.2\n",
      "153.0\n"
     ]
    }
   ],
   "source": [
    "x1 = df.iloc[0,1]\n",
    "print(x1)\n",
    "x2 = df.iloc[1,1]\n",
    "print(x2)\n",
    "x3 = df.iloc[2,1]\n",
    "print(x3)"
   ]
  },
  {
   "cell_type": "code",
   "execution_count": 5,
   "metadata": {},
   "outputs": [
    {
     "data": {
      "text/plain": [
       "A      3.0\n",
       "B    153.0\n",
       "Name: 2, dtype: float64"
      ]
     },
     "execution_count": 5,
     "metadata": {},
     "output_type": "execute_result"
    }
   ],
   "source": [
    "df.loc[df.index[0 + 2]]"
   ]
  },
  {
   "cell_type": "code",
   "execution_count": 19,
   "metadata": {},
   "outputs": [],
   "source": [
    "for x in range(0,df.shape[0]-2):\n",
    "    df.loc[df.index[x + 2], 'GD_3'] = np.round(((df.iloc[x, 1] + df.iloc[x + 1, 1] + df.iloc[x + 2, 1]) /3), 1)"
   ]
  },
  {
   "cell_type": "code",
   "execution_count": 30,
   "metadata": {},
   "outputs": [
    {
     "data": {
      "text/html": [
       "<div>\n",
       "<style scoped>\n",
       "    .dataframe tbody tr th:only-of-type {\n",
       "        vertical-align: middle;\n",
       "    }\n",
       "\n",
       "    .dataframe tbody tr th {\n",
       "        vertical-align: top;\n",
       "    }\n",
       "\n",
       "    .dataframe thead th {\n",
       "        text-align: right;\n",
       "    }\n",
       "</style>\n",
       "<table border=\"1\" class=\"dataframe\">\n",
       "  <thead>\n",
       "    <tr style=\"text-align: right;\">\n",
       "      <th></th>\n",
       "      <th>A</th>\n",
       "      <th>B</th>\n",
       "      <th>GD_3</th>\n",
       "    </tr>\n",
       "  </thead>\n",
       "  <tbody>\n",
       "    <tr>\n",
       "      <th>0</th>\n",
       "      <td>1</td>\n",
       "      <td>106.8</td>\n",
       "      <td>NaN</td>\n",
       "    </tr>\n",
       "    <tr>\n",
       "      <th>1</th>\n",
       "      <td>2</td>\n",
       "      <td>129.2</td>\n",
       "      <td>NaN</td>\n",
       "    </tr>\n",
       "    <tr>\n",
       "      <th>2</th>\n",
       "      <td>3</td>\n",
       "      <td>153.0</td>\n",
       "      <td>129.7</td>\n",
       "    </tr>\n",
       "    <tr>\n",
       "      <th>3</th>\n",
       "      <td>4</td>\n",
       "      <td>149.1</td>\n",
       "      <td>143.8</td>\n",
       "    </tr>\n",
       "    <tr>\n",
       "      <th>4</th>\n",
       "      <td>5</td>\n",
       "      <td>158.3</td>\n",
       "      <td>153.5</td>\n",
       "    </tr>\n",
       "    <tr>\n",
       "      <th>5</th>\n",
       "      <td>6</td>\n",
       "      <td>132.9</td>\n",
       "      <td>146.8</td>\n",
       "    </tr>\n",
       "    <tr>\n",
       "      <th>6</th>\n",
       "      <td>7</td>\n",
       "      <td>149.8</td>\n",
       "      <td>147.0</td>\n",
       "    </tr>\n",
       "    <tr>\n",
       "      <th>7</th>\n",
       "      <td>8</td>\n",
       "      <td>140.3</td>\n",
       "      <td>141.0</td>\n",
       "    </tr>\n",
       "    <tr>\n",
       "      <th>8</th>\n",
       "      <td>9</td>\n",
       "      <td>138.3</td>\n",
       "      <td>142.8</td>\n",
       "    </tr>\n",
       "    <tr>\n",
       "      <th>9</th>\n",
       "      <td>10</td>\n",
       "      <td>152.2</td>\n",
       "      <td>143.6</td>\n",
       "    </tr>\n",
       "    <tr>\n",
       "      <th>10</th>\n",
       "      <td>11</td>\n",
       "      <td>128.1</td>\n",
       "      <td>139.5</td>\n",
       "    </tr>\n",
       "  </tbody>\n",
       "</table>\n",
       "</div>"
      ],
      "text/plain": [
       "     A      B   GD_3\n",
       "0    1  106.8    NaN\n",
       "1    2  129.2    NaN\n",
       "2    3  153.0  129.7\n",
       "3    4  149.1  143.8\n",
       "4    5  158.3  153.5\n",
       "5    6  132.9  146.8\n",
       "6    7  149.8  147.0\n",
       "7    8  140.3  141.0\n",
       "8    9  138.3  142.8\n",
       "9   10  152.2  143.6\n",
       "10  11  128.1  139.5"
      ]
     },
     "execution_count": 30,
     "metadata": {},
     "output_type": "execute_result"
    }
   ],
   "source": [
    "df"
   ]
  },
  {
   "cell_type": "code",
   "execution_count": 42,
   "metadata": {},
   "outputs": [],
   "source": [
    "import matplotlib.pyplot as plt\n",
    "%matplotlib inline\n",
    "import matplotlib.style as style\n",
    "style.use('fivethirtyeight')"
   ]
  },
  {
   "cell_type": "code",
   "execution_count": 45,
   "metadata": {},
   "outputs": [
    {
     "data": {
      "text/plain": [
       "<matplotlib.legend.Legend at 0x18f98754c48>"
      ]
     },
     "execution_count": 45,
     "metadata": {},
     "output_type": "execute_result"
    },
    {
     "data": {
      "image/png": "[encoded data removed]",
      "text/plain": [
       "<Figure size 1080x720 with 1 Axes>"
      ]
     },
     "metadata": {},
     "output_type": "display_data"
    }
   ],
   "source": [
    "plt.figure(figsize=[15,10])\n",
    "plt.grid(True)\n",
    "plt.plot(df['B'],label='Bedarf')\n",
    "plt.plot(df['GD_3'],label='GD T=3')\n",
    "plt.legend(loc=2)"
   ]
  },
  {
   "cell_type": "markdown",
   "metadata": {},
   "source": [
    "Quellen:\n",
    "[1] https://www.ingenieurkurse.de/produktion/aggregierte-produktionsplanung/einstufige-produktionsprogrammplanung/einstufige-mehrperiodige-produktionsprogrammplanung/prognosen-zur-nachfrageentwicklung/methode-des-gleitenden-durchschnitts.html\n",
    "    \n",
    "[2]  https://otexts.com/fpp2/decomposition.html\n",
    "    \n",
    "[3] https://www.cmegroup.com/education/courses/technical-analysis/understanding-moving-averages.html\n",
    "\n",
    "[4] https://www.uni-siegen.de/smi/aktuelles/bestandsmanagement_wolf.pdf\n",
    "\n",
    "[5] https://de.wikibooks.org/wiki/Materialwirtschaft:_Beschaffung:_Bedarfsarten_und_Bedarfsermittlung\n",
    "\n",
    "[6] https://www.datacamp.com/community/tutorials/moving-averages-in-pandas\n"
   ]
  }
 ],
 "metadata": {
  "celltoolbar": "Raw Cell Format",
  "kernelspec": {
   "display_name": "Python 3",
   "language": "python",
   "name": "python3"
  },
  "language_info": {
   "codemirror_mode": {
    "name": "ipython",
    "version": 3
   },
   "file_extension": ".py",
   "mimetype": "text/x-python",
   "name": "python",
   "nbconvert_exporter": "python",
   "pygments_lexer": "ipython3",
   "version": "3.7.6"
  }
 },
 "nbformat": 4,
 "nbformat_minor": 4
}
