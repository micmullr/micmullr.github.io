{
 "cells": [
  {
   "cell_type": "markdown",
   "metadata": {},
   "source": [
    "# Umrechnung $𝑚𝑔/𝑚^3$ in ppm"
   ]
  },
  {
   "cell_type": "markdown",
   "metadata": {},
   "source": [
    "Der $CO_2$-Gehalt in der Luft wird in parts per million (Anteile pro Million), kurz ppm, oder in Prozent (%), beziehungsweise Volumenprozent (Vol.-%) angegeben. Zu Beginn der Industrialisierung, um 1750 lag die $CO_2$-Konzentration bei 278 ppm.[^6] [^7] Diese historischen Daten sind in ppm, die Messtelle gibt die Kohlendioxidangaben in $𝑚𝑔/𝑚^3$ an. Um die Massenkonzentrationen und Volumenmischungsverhältnisse besser vergleichen zu können, werden sie in diesem Abschnitt umgewandelt. Die Angaben als Massenkonzentrationen in $𝑚𝑔/𝑚^3$ gelten nur für die bestimmten Bedingungen von Druck und Temperatur. Der Befehl df_wasserkuppe.info() liefert uns das maximal 76646 Werte ppm berechnen könnten. Da nur für 76646 Luftdruckwerte vorhanden sind.\n",
    "\n",
    " \n",
    "\n",
    "\n"
   ]
  },
  {
   "cell_type": "markdown",
   "metadata": {},
   "source": [
    "Stand: 27.04.2021"
   ]
  },
  {
   "cell_type": "code",
   "execution_count": 32,
   "metadata": {},
   "outputs": [],
   "source": [
    "df_wasserkuppe = pd.read_csv('daten/wasserkuppe.csv')\n",
    "df_wasserkuppe.index = pd.to_datetime(df_wasserkuppe.Datum)"
   ]
  },
  {
   "cell_type": "code",
   "execution_count": 33,
   "metadata": {},
   "outputs": [
    {
     "data": {
      "text/html": [
       "<div>\n",
       "<style scoped>\n",
       "    .dataframe tbody tr th:only-of-type {\n",
       "        vertical-align: middle;\n",
       "    }\n",
       "\n",
       "    .dataframe tbody tr th {\n",
       "        vertical-align: top;\n",
       "    }\n",
       "\n",
       "    .dataframe thead th {\n",
       "        text-align: right;\n",
       "    }\n",
       "</style>\n",
       "<table border=\"1\" class=\"dataframe\">\n",
       "  <thead>\n",
       "    <tr style=\"text-align: right;\">\n",
       "      <th></th>\n",
       "      <th>Temperatur</th>\n",
       "      <th>Luftdruck</th>\n",
       "      <th>Kohlendioxid</th>\n",
       "    </tr>\n",
       "    <tr>\n",
       "      <th>Datum</th>\n",
       "      <th></th>\n",
       "      <th></th>\n",
       "      <th></th>\n",
       "    </tr>\n",
       "  </thead>\n",
       "  <tbody>\n",
       "    <tr>\n",
       "      <th>2011-01-09 12:00:00</th>\n",
       "      <td>13.4</td>\n",
       "      <td>1014.0</td>\n",
       "      <td>724.0</td>\n",
       "    </tr>\n",
       "    <tr>\n",
       "      <th>2011-01-09 13:00:00</th>\n",
       "      <td>14.6</td>\n",
       "      <td>1014.0</td>\n",
       "      <td>726.0</td>\n",
       "    </tr>\n",
       "    <tr>\n",
       "      <th>2011-01-09 14:00:00</th>\n",
       "      <td>15.6</td>\n",
       "      <td>1014.0</td>\n",
       "      <td>729.0</td>\n",
       "    </tr>\n",
       "    <tr>\n",
       "      <th>2011-01-09 15:00:00</th>\n",
       "      <td>15.6</td>\n",
       "      <td>1013.0</td>\n",
       "      <td>720.0</td>\n",
       "    </tr>\n",
       "    <tr>\n",
       "      <th>2011-01-09 16:00:00</th>\n",
       "      <td>15.6</td>\n",
       "      <td>1013.0</td>\n",
       "      <td>721.0</td>\n",
       "    </tr>\n",
       "    <tr>\n",
       "      <th>...</th>\n",
       "      <td>...</td>\n",
       "      <td>...</td>\n",
       "      <td>...</td>\n",
       "    </tr>\n",
       "    <tr>\n",
       "      <th>2020-04-06 20:00:00</th>\n",
       "      <td>8.8</td>\n",
       "      <td>994.0</td>\n",
       "      <td>735.0</td>\n",
       "    </tr>\n",
       "    <tr>\n",
       "      <th>2020-04-06 21:00:00</th>\n",
       "      <td>8.8</td>\n",
       "      <td>995.0</td>\n",
       "      <td>737.0</td>\n",
       "    </tr>\n",
       "    <tr>\n",
       "      <th>2020-04-06 22:00:00</th>\n",
       "      <td>8.8</td>\n",
       "      <td>995.0</td>\n",
       "      <td>739.0</td>\n",
       "    </tr>\n",
       "    <tr>\n",
       "      <th>2020-04-06 23:00:00</th>\n",
       "      <td>7.6</td>\n",
       "      <td>995.0</td>\n",
       "      <td>740.0</td>\n",
       "    </tr>\n",
       "    <tr>\n",
       "      <th>2020-05-06 00:00:00</th>\n",
       "      <td>6.5</td>\n",
       "      <td>995.0</td>\n",
       "      <td>737.0</td>\n",
       "    </tr>\n",
       "  </tbody>\n",
       "</table>\n",
       "<p>75072 rows × 3 columns</p>\n",
       "</div>"
      ],
      "text/plain": [
       "                     Temperatur  Luftdruck  Kohlendioxid\n",
       "Datum                                                   \n",
       "2011-01-09 12:00:00        13.4     1014.0         724.0\n",
       "2011-01-09 13:00:00        14.6     1014.0         726.0\n",
       "2011-01-09 14:00:00        15.6     1014.0         729.0\n",
       "2011-01-09 15:00:00        15.6     1013.0         720.0\n",
       "2011-01-09 16:00:00        15.6     1013.0         721.0\n",
       "...                         ...        ...           ...\n",
       "2020-04-06 20:00:00         8.8      994.0         735.0\n",
       "2020-04-06 21:00:00         8.8      995.0         737.0\n",
       "2020-04-06 22:00:00         8.8      995.0         739.0\n",
       "2020-04-06 23:00:00         7.6      995.0         740.0\n",
       "2020-05-06 00:00:00         6.5      995.0         737.0\n",
       "\n",
       "[75072 rows x 3 columns]"
      ]
     },
     "execution_count": 33,
     "metadata": {},
     "output_type": "execute_result"
    }
   ],
   "source": [
    "df_wasserkuppedrop = df_wasserkuppe.dropna()\n",
    "df_wasserkuppedrop = df_wasserkuppedrop.drop(columns=['Datum'])\n",
    "\n",
    "df_wasserkuppedrop"
   ]
  },
  {
   "cell_type": "markdown",
   "metadata": {},
   "source": [
    "## Umrechnungsformel"
   ]
  },
  {
   "cell_type": "markdown",
   "metadata": {},
   "source": [
    "mg = 0.1*ppm1*mol/((8.31447*(t+273.15))/p)\n",
    "\n",
    "ppm = 10*mg2/mol*((8.31447*(t+273.15))/p)\n",
    "  \n",
    "  \n",
    "mg2...ist die Massenkonzentration des Messwertes Kohlendioxid in mg/m3 \n",
    "\n",
    "p...ist der Bezugsdruck. Der Normdruck wäre 1013,25 mbar.\n",
    "\n",
    "mol...die molare Masse von Kohlendioxid in g/mol:\n",
    "44,01 g/mol\n",
    "\n",
    "10 ergibt sich als Umrechnungsfaktor, da keine konsistenten Einheiten verwendet werden[^10]\n",
    "\n",
    "R ist die Universelle Gaskonstante = 8,314472 J/(K·mol)\n"
   ]
  },
  {
   "cell_type": "code",
   "execution_count": 34,
   "metadata": {},
   "outputs": [
    {
     "data": {
      "text/plain": [
       "386.8170144884977"
      ]
     },
     "execution_count": 34,
     "metadata": {},
     "output_type": "execute_result"
    }
   ],
   "source": [
    "t= 13.4\n",
    "p=1013.25\n",
    "mol=44.01\n",
    "mg2=724\n",
    "\n",
    "ppm = 10*mg2/mol*((8.31447*(t+273.15))/p)\n",
    "ppm"
   ]
  },
  {
   "cell_type": "markdown",
   "metadata": {},
   "source": [
    "Berechnung der Werte 2011-01-09 12:00:00 und 2020-05-06 00:00:00"
   ]
  },
  {
   "cell_type": "code",
   "execution_count": 35,
   "metadata": {},
   "outputs": [
    {
     "data": {
      "text/plain": [
       "391.32936019874427"
      ]
     },
     "execution_count": 35,
     "metadata": {},
     "output_type": "execute_result"
    }
   ],
   "source": [
    "t= 6.5\n",
    "p=995\n",
    "mol=44.01\n",
    "mg2=737\n",
    "\n",
    "ppm = 10*mg2/mol*((8.31447*(t+273.15))/p)\n",
    "ppm"
   ]
  },
  {
   "cell_type": "code",
   "execution_count": 36,
   "metadata": {},
   "outputs": [
    {
     "data": {
      "text/plain": [
       "386.5309072292606"
      ]
     },
     "execution_count": 36,
     "metadata": {},
     "output_type": "execute_result"
    }
   ],
   "source": [
    "t= 13.4\n",
    "p=1014\n",
    "mol=44.01\n",
    "mg2=724\n",
    "\n",
    "ppm = 10*mg2/mol*((8.31447*(t+273.15))/p)\n",
    "ppm"
   ]
  },
  {
   "cell_type": "code",
   "execution_count": 37,
   "metadata": {},
   "outputs": [
    {
     "data": {
      "text/plain": [
       "Datum\n",
       "2011-01-09 12:00:00    386.530907\n",
       "2011-01-09 13:00:00    389.221839\n",
       "2011-01-09 14:00:00    392.188422\n",
       "2011-01-09 15:00:00    387.728965\n",
       "2011-01-09 16:00:00    388.267478\n",
       "                          ...    \n",
       "2020-04-06 20:00:00    393.873041\n",
       "2020-04-06 21:00:00    394.547875\n",
       "2020-04-06 22:00:00    395.618561\n",
       "2020-04-06 23:00:00    394.467844\n",
       "2020-05-06 00:00:00    391.329360\n",
       "Name: ppm, Length: 75072, dtype: float64"
      ]
     },
     "execution_count": 37,
     "metadata": {},
     "output_type": "execute_result"
    }
   ],
   "source": [
    "t = df_wasserkuppedrop['Temperatur']\n",
    "p = df_wasserkuppedrop['Luftdruck']\n",
    "mol = 44.01\n",
    "mg2 = df_wasserkuppedrop['Kohlendioxid']\n",
    "\n",
    "df_wasserkuppedrop['ppm'] = 10*mg2/mol*((8.31447*(t+273.15))/p)\n",
    "\n",
    "df_wasserkuppedrop['ppm']"
   ]
  },
  {
   "cell_type": "code",
   "execution_count": 38,
   "metadata": {},
   "outputs": [
    {
     "data": {
      "text/html": [
       "<div>\n",
       "<style scoped>\n",
       "    .dataframe tbody tr th:only-of-type {\n",
       "        vertical-align: middle;\n",
       "    }\n",
       "\n",
       "    .dataframe tbody tr th {\n",
       "        vertical-align: top;\n",
       "    }\n",
       "\n",
       "    .dataframe thead th {\n",
       "        text-align: right;\n",
       "    }\n",
       "</style>\n",
       "<table border=\"1\" class=\"dataframe\">\n",
       "  <thead>\n",
       "    <tr style=\"text-align: right;\">\n",
       "      <th></th>\n",
       "      <th>Temperatur</th>\n",
       "      <th>Luftdruck</th>\n",
       "      <th>Kohlendioxid</th>\n",
       "      <th>ppm</th>\n",
       "    </tr>\n",
       "    <tr>\n",
       "      <th>Datum</th>\n",
       "      <th></th>\n",
       "      <th></th>\n",
       "      <th></th>\n",
       "      <th></th>\n",
       "    </tr>\n",
       "  </thead>\n",
       "  <tbody>\n",
       "    <tr>\n",
       "      <th>2011-01-09 12:00:00</th>\n",
       "      <td>13.4</td>\n",
       "      <td>1014.0</td>\n",
       "      <td>724.0</td>\n",
       "      <td>386.530907</td>\n",
       "    </tr>\n",
       "    <tr>\n",
       "      <th>2011-01-09 13:00:00</th>\n",
       "      <td>14.6</td>\n",
       "      <td>1014.0</td>\n",
       "      <td>726.0</td>\n",
       "      <td>389.221839</td>\n",
       "    </tr>\n",
       "    <tr>\n",
       "      <th>2011-01-09 14:00:00</th>\n",
       "      <td>15.6</td>\n",
       "      <td>1014.0</td>\n",
       "      <td>729.0</td>\n",
       "      <td>392.188422</td>\n",
       "    </tr>\n",
       "    <tr>\n",
       "      <th>2011-01-09 15:00:00</th>\n",
       "      <td>15.6</td>\n",
       "      <td>1013.0</td>\n",
       "      <td>720.0</td>\n",
       "      <td>387.728965</td>\n",
       "    </tr>\n",
       "    <tr>\n",
       "      <th>2011-01-09 16:00:00</th>\n",
       "      <td>15.6</td>\n",
       "      <td>1013.0</td>\n",
       "      <td>721.0</td>\n",
       "      <td>388.267478</td>\n",
       "    </tr>\n",
       "    <tr>\n",
       "      <th>...</th>\n",
       "      <td>...</td>\n",
       "      <td>...</td>\n",
       "      <td>...</td>\n",
       "      <td>...</td>\n",
       "    </tr>\n",
       "    <tr>\n",
       "      <th>2020-04-06 20:00:00</th>\n",
       "      <td>8.8</td>\n",
       "      <td>994.0</td>\n",
       "      <td>735.0</td>\n",
       "      <td>393.873041</td>\n",
       "    </tr>\n",
       "    <tr>\n",
       "      <th>2020-04-06 21:00:00</th>\n",
       "      <td>8.8</td>\n",
       "      <td>995.0</td>\n",
       "      <td>737.0</td>\n",
       "      <td>394.547875</td>\n",
       "    </tr>\n",
       "    <tr>\n",
       "      <th>2020-04-06 22:00:00</th>\n",
       "      <td>8.8</td>\n",
       "      <td>995.0</td>\n",
       "      <td>739.0</td>\n",
       "      <td>395.618561</td>\n",
       "    </tr>\n",
       "    <tr>\n",
       "      <th>2020-04-06 23:00:00</th>\n",
       "      <td>7.6</td>\n",
       "      <td>995.0</td>\n",
       "      <td>740.0</td>\n",
       "      <td>394.467844</td>\n",
       "    </tr>\n",
       "    <tr>\n",
       "      <th>2020-05-06 00:00:00</th>\n",
       "      <td>6.5</td>\n",
       "      <td>995.0</td>\n",
       "      <td>737.0</td>\n",
       "      <td>391.329360</td>\n",
       "    </tr>\n",
       "  </tbody>\n",
       "</table>\n",
       "<p>75072 rows × 4 columns</p>\n",
       "</div>"
      ],
      "text/plain": [
       "                     Temperatur  Luftdruck  Kohlendioxid         ppm\n",
       "Datum                                                               \n",
       "2011-01-09 12:00:00        13.4     1014.0         724.0  386.530907\n",
       "2011-01-09 13:00:00        14.6     1014.0         726.0  389.221839\n",
       "2011-01-09 14:00:00        15.6     1014.0         729.0  392.188422\n",
       "2011-01-09 15:00:00        15.6     1013.0         720.0  387.728965\n",
       "2011-01-09 16:00:00        15.6     1013.0         721.0  388.267478\n",
       "...                         ...        ...           ...         ...\n",
       "2020-04-06 20:00:00         8.8      994.0         735.0  393.873041\n",
       "2020-04-06 21:00:00         8.8      995.0         737.0  394.547875\n",
       "2020-04-06 22:00:00         8.8      995.0         739.0  395.618561\n",
       "2020-04-06 23:00:00         7.6      995.0         740.0  394.467844\n",
       "2020-05-06 00:00:00         6.5      995.0         737.0  391.329360\n",
       "\n",
       "[75072 rows x 4 columns]"
      ]
     },
     "execution_count": 38,
     "metadata": {},
     "output_type": "execute_result"
    }
   ],
   "source": [
    "df_wasserkuppedrop"
   ]
  },
  {
   "cell_type": "code",
   "execution_count": 39,
   "metadata": {},
   "outputs": [
    {
     "data": {
      "text/html": [
       "<div>\n",
       "<style scoped>\n",
       "    .dataframe tbody tr th:only-of-type {\n",
       "        vertical-align: middle;\n",
       "    }\n",
       "\n",
       "    .dataframe tbody tr th {\n",
       "        vertical-align: top;\n",
       "    }\n",
       "\n",
       "    .dataframe thead th {\n",
       "        text-align: right;\n",
       "    }\n",
       "</style>\n",
       "<table border=\"1\" class=\"dataframe\">\n",
       "  <thead>\n",
       "    <tr style=\"text-align: right;\">\n",
       "      <th></th>\n",
       "      <th>Temperatur</th>\n",
       "      <th>Luftdruck</th>\n",
       "      <th>Kohlendioxid</th>\n",
       "      <th>ppm</th>\n",
       "    </tr>\n",
       "    <tr>\n",
       "      <th>Datum</th>\n",
       "      <th></th>\n",
       "      <th></th>\n",
       "      <th></th>\n",
       "      <th></th>\n",
       "    </tr>\n",
       "  </thead>\n",
       "  <tbody>\n",
       "    <tr>\n",
       "      <th>2011-01-31</th>\n",
       "      <td>9.861905</td>\n",
       "      <td>1018.083333</td>\n",
       "      <td>718.535714</td>\n",
       "      <td>377.267934</td>\n",
       "    </tr>\n",
       "    <tr>\n",
       "      <th>2011-02-28</th>\n",
       "      <td>10.933333</td>\n",
       "      <td>1015.166667</td>\n",
       "      <td>718.979167</td>\n",
       "      <td>380.087965</td>\n",
       "    </tr>\n",
       "    <tr>\n",
       "      <th>2011-03-31</th>\n",
       "      <td>10.738542</td>\n",
       "      <td>1012.093750</td>\n",
       "      <td>723.416667</td>\n",
       "      <td>383.434028</td>\n",
       "    </tr>\n",
       "    <tr>\n",
       "      <th>2011-04-30</th>\n",
       "      <td>10.977660</td>\n",
       "      <td>1008.351064</td>\n",
       "      <td>724.648936</td>\n",
       "      <td>385.891135</td>\n",
       "    </tr>\n",
       "    <tr>\n",
       "      <th>2011-05-31</th>\n",
       "      <td>8.386458</td>\n",
       "      <td>1008.500000</td>\n",
       "      <td>723.479167</td>\n",
       "      <td>381.627605</td>\n",
       "    </tr>\n",
       "    <tr>\n",
       "      <th>...</th>\n",
       "      <td>...</td>\n",
       "      <td>...</td>\n",
       "      <td>...</td>\n",
       "      <td>...</td>\n",
       "    </tr>\n",
       "    <tr>\n",
       "      <th>2020-08-31</th>\n",
       "      <td>5.670833</td>\n",
       "      <td>1020.233333</td>\n",
       "      <td>751.100000</td>\n",
       "      <td>387.711256</td>\n",
       "    </tr>\n",
       "    <tr>\n",
       "      <th>2020-09-30</th>\n",
       "      <td>7.174167</td>\n",
       "      <td>1014.941667</td>\n",
       "      <td>745.800000</td>\n",
       "      <td>389.088071</td>\n",
       "    </tr>\n",
       "    <tr>\n",
       "      <th>2020-10-31</th>\n",
       "      <td>5.693333</td>\n",
       "      <td>1009.225000</td>\n",
       "      <td>741.425000</td>\n",
       "      <td>386.948444</td>\n",
       "    </tr>\n",
       "    <tr>\n",
       "      <th>2020-11-30</th>\n",
       "      <td>2.715833</td>\n",
       "      <td>1012.291667</td>\n",
       "      <td>745.200000</td>\n",
       "      <td>383.644441</td>\n",
       "    </tr>\n",
       "    <tr>\n",
       "      <th>2020-12-31</th>\n",
       "      <td>2.384167</td>\n",
       "      <td>1013.800000</td>\n",
       "      <td>746.466667</td>\n",
       "      <td>383.237839</td>\n",
       "    </tr>\n",
       "  </tbody>\n",
       "</table>\n",
       "<p>120 rows × 4 columns</p>\n",
       "</div>"
      ],
      "text/plain": [
       "            Temperatur    Luftdruck  Kohlendioxid         ppm\n",
       "Datum                                                        \n",
       "2011-01-31    9.861905  1018.083333    718.535714  377.267934\n",
       "2011-02-28   10.933333  1015.166667    718.979167  380.087965\n",
       "2011-03-31   10.738542  1012.093750    723.416667  383.434028\n",
       "2011-04-30   10.977660  1008.351064    724.648936  385.891135\n",
       "2011-05-31    8.386458  1008.500000    723.479167  381.627605\n",
       "...                ...          ...           ...         ...\n",
       "2020-08-31    5.670833  1020.233333    751.100000  387.711256\n",
       "2020-09-30    7.174167  1014.941667    745.800000  389.088071\n",
       "2020-10-31    5.693333  1009.225000    741.425000  386.948444\n",
       "2020-11-30    2.715833  1012.291667    745.200000  383.644441\n",
       "2020-12-31    2.384167  1013.800000    746.466667  383.237839\n",
       "\n",
       "[120 rows x 4 columns]"
      ]
     },
     "execution_count": 39,
     "metadata": {},
     "output_type": "execute_result"
    }
   ],
   "source": [
    "dfco2m = df_wasserkuppedrop.resample('M').mean()\n",
    "dfco2m"
   ]
  },
  {
   "cell_type": "code",
   "execution_count": 40,
   "metadata": {
    "scrolled": true
   },
   "outputs": [
    {
     "data": {
      "text/plain": [
       "<matplotlib.legend.Legend at 0x172fbda4988>"
      ]
     },
     "execution_count": 40,
     "metadata": {},
     "output_type": "execute_result"
    },
    {
     "data": {
      "image/png": "[encoded data removed]",
      "text/plain": [
       "<Figure size 1080x504 with 1 Axes>"
      ]
     },
     "metadata": {
      "needs_background": "light"
     },
     "output_type": "display_data"
    }
   ],
   "source": [
    "import matplotlib.pyplot as plt\n",
    "import matplotlib.style as style\n",
    "\n",
    "dfco2m['ppm'].plot(label = 'ppm', figsize=(15,7))\n",
    "dfco2m['MA3'] = dfco2m['ppm'].rolling(3).mean()\n",
    "dfco2m['MA3'].plot(label='MA3')\n",
    "style.use('fivethirtyeight')\n",
    "plt.legend()"
   ]
  },
  {
   "cell_type": "markdown",
   "metadata": {},
   "source": [
    "Quellenangaben:\n",
    "\n",
    "[^1]: Kohlendioxid-Konzentration – Klimawandel. (2019). bildungsserver. https://wiki.bildungsserver.de/klimawandel/index.php/Kohlendioxid-Konzentration\n",
    "\n",
    "[^2]: Wikipedia-Autoren. (2007, 16. Mai). Kohlenstoffdioxid in der Erdatmosphäre. Wikipedia. https://de.wikipedia.org/wiki/Kohlenstoffdioxid_in_der_Erdatmosph%C3%A4re\n",
    "\n",
    "\n",
    "[^3]: ppm in mg/m3. (2019). NABU Eibelshausen. http://www.nabu-eibelshausen.de/Rechner/ppm.html"
   ]
  }
 ],
 "metadata": {
  "kernelspec": {
   "display_name": "Python 3",
   "language": "python",
   "name": "python3"
  },
  "language_info": {
   "codemirror_mode": {
    "name": "ipython",
    "version": 3
   },
   "file_extension": ".py",
   "mimetype": "text/x-python",
   "name": "python",
   "nbconvert_exporter": "python",
   "pygments_lexer": "ipython3",
   "version": "3.7.6"
  }
 },
 "nbformat": 4,
 "nbformat_minor": 4
}
