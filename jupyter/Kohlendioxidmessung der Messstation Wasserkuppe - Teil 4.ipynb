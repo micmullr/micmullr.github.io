{
 "cells": [
  {
   "cell_type": "markdown",
   "metadata": {},
   "source": [
    "# Verarbeitung und Vorverarbeitung vom Datensatz\n",
    "\n",
    "In diesem Abschnitt wird der Datensatz bearbeitet. Die Daten befinden sich noch im Rohzustand, für eine weitere Verarbeitung, werden sie in bestimmte Formate umgewandelt. \n",
    "\n",
    "Anschließend werden die Messdaten mit Python analysiert. Für die Umsetzung wird das Pandas Framework genutzt. Hauptbestandteil ist die Klasse DataFrame, mit der sich zweidimensionale Tabellen, die aus Zeilen und Spalten bestehen, aufbereiten und umarbeiten lassen. Die Datei messwerte.txt liefert Hinweise, wie die Datei in Python geladen werden soll. Deutschland verwendet ein Komma (,) als Dezimaltrennzeichen. Die meisten europäischen Länder, trennen mit ‚;“ anstatt ‚,‘ und das Dezimaltrennzeichen ist ‚,‘ statt ‚.‘ \n",
    "\n",
    "Datum;Zeit;Kohlendioxid (CO2)[mg/m³];Temperatur[°C];Luftdruck[hPa]\n",
    "\n",
    "01.12.2019;01:00;867;-3,5;1023\n",
    "\n",
    "01.12.2019;02:00;885;-3,6;1023\n",
    "\n",
    "Die Rohdaten stellen folgenden Aufgaben:\n",
    "\n",
    "Der Datentyp muss von Objekt in Zahl umwgewandelt werden. \n",
    "Die Datumspalte und Zeitspalte in ein Datumsformat bringen („%d-%m-%y %H:%M“).\n",
    "\n",
    "Die pandas Bibliothek wird geladen und mit mit pd abgekürzt."
   ]
  },
  {
   "cell_type": "markdown",
   "metadata": {},
   "source": [
    "Stand: 27.04.2021"
   ]
  },
  {
   "cell_type": "code",
   "execution_count": 11,
   "metadata": {},
   "outputs": [],
   "source": [
    "import pandas as pd"
   ]
  },
  {
   "cell_type": "markdown",
   "metadata": {},
   "source": [
    "Die Messdaten einlesen (pd.read_csv) und die Zellen mit ‚;‘ trennen. Dezimaltrennzeichen ‚,‘ ( sep=‘;‘ , decimal=‘,‘)."
   ]
  },
  {
   "cell_type": "code",
   "execution_count": 12,
   "metadata": {},
   "outputs": [],
   "source": [
    "df_wasserkuppe = pd.read_csv('daten/messwerte_wasserkuppe.txt', sep = ';' , decimal = ',')"
   ]
  },
  {
   "cell_type": "markdown",
   "metadata": {},
   "source": [
    "Die head-Methode liefert eine Übersicht über die ersten fünf Zeilen."
   ]
  },
  {
   "cell_type": "code",
   "execution_count": 13,
   "metadata": {},
   "outputs": [
    {
     "data": {
      "text/html": [
       "<div>\n",
       "<style scoped>\n",
       "    .dataframe tbody tr th:only-of-type {\n",
       "        vertical-align: middle;\n",
       "    }\n",
       "\n",
       "    .dataframe tbody tr th {\n",
       "        vertical-align: top;\n",
       "    }\n",
       "\n",
       "    .dataframe thead th {\n",
       "        text-align: right;\n",
       "    }\n",
       "</style>\n",
       "<table border=\"1\" class=\"dataframe\">\n",
       "  <thead>\n",
       "    <tr style=\"text-align: right;\">\n",
       "      <th></th>\n",
       "      <th>Datum</th>\n",
       "      <th>Zeit</th>\n",
       "      <th>Kohlendioxid (CO2)[mg/m³]</th>\n",
       "      <th>Temperatur[°C]</th>\n",
       "      <th>Luftdruck[hPa]</th>\n",
       "      <th>Windgeschwindigkeit[m/s]</th>\n",
       "      <th>Windrichtung[Grad]</th>\n",
       "      <th>Niederschlag[mm/30min]</th>\n",
       "      <th>Globalstrahlung[W/m²]</th>\n",
       "    </tr>\n",
       "  </thead>\n",
       "  <tbody>\n",
       "    <tr>\n",
       "      <th>0</th>\n",
       "      <td>05.07.2000</td>\n",
       "      <td>01:00</td>\n",
       "      <td>-</td>\n",
       "      <td>9,7</td>\n",
       "      <td>-</td>\n",
       "      <td>12,6</td>\n",
       "      <td>-</td>\n",
       "      <td>-</td>\n",
       "      <td>1</td>\n",
       "    </tr>\n",
       "    <tr>\n",
       "      <th>1</th>\n",
       "      <td>05.07.2000</td>\n",
       "      <td>02:00</td>\n",
       "      <td>-</td>\n",
       "      <td>9,8</td>\n",
       "      <td>-</td>\n",
       "      <td>10,8</td>\n",
       "      <td>-</td>\n",
       "      <td>-</td>\n",
       "      <td>1</td>\n",
       "    </tr>\n",
       "    <tr>\n",
       "      <th>2</th>\n",
       "      <td>05.07.2000</td>\n",
       "      <td>03:00</td>\n",
       "      <td>-</td>\n",
       "      <td>9,7</td>\n",
       "      <td>-</td>\n",
       "      <td>11,0</td>\n",
       "      <td>-</td>\n",
       "      <td>-</td>\n",
       "      <td>1</td>\n",
       "    </tr>\n",
       "    <tr>\n",
       "      <th>3</th>\n",
       "      <td>05.07.2000</td>\n",
       "      <td>04:00</td>\n",
       "      <td>-</td>\n",
       "      <td>9,4</td>\n",
       "      <td>-</td>\n",
       "      <td>12,8</td>\n",
       "      <td>-</td>\n",
       "      <td>-</td>\n",
       "      <td>1</td>\n",
       "    </tr>\n",
       "    <tr>\n",
       "      <th>4</th>\n",
       "      <td>05.07.2000</td>\n",
       "      <td>05:00</td>\n",
       "      <td>-</td>\n",
       "      <td>8,8</td>\n",
       "      <td>-</td>\n",
       "      <td>12,6</td>\n",
       "      <td>-</td>\n",
       "      <td>-</td>\n",
       "      <td>1</td>\n",
       "    </tr>\n",
       "  </tbody>\n",
       "</table>\n",
       "</div>"
      ],
      "text/plain": [
       "        Datum   Zeit Kohlendioxid (CO2)[mg/m³] Temperatur[°C] Luftdruck[hPa]  \\\n",
       "0  05.07.2000  01:00                         -            9,7              -   \n",
       "1  05.07.2000  02:00                         -            9,8              -   \n",
       "2  05.07.2000  03:00                         -            9,7              -   \n",
       "3  05.07.2000  04:00                         -            9,4              -   \n",
       "4  05.07.2000  05:00                         -            8,8              -   \n",
       "\n",
       "  Windgeschwindigkeit[m/s] Windrichtung[Grad] Niederschlag[mm/30min]  \\\n",
       "0                     12,6                  -                      -   \n",
       "1                     10,8                  -                      -   \n",
       "2                     11,0                  -                      -   \n",
       "3                     12,8                  -                      -   \n",
       "4                     12,6                  -                      -   \n",
       "\n",
       "  Globalstrahlung[W/m²]  \n",
       "0                     1  \n",
       "1                     1  \n",
       "2                     1  \n",
       "3                     1  \n",
       "4                     1  "
      ]
     },
     "execution_count": 13,
     "metadata": {},
     "output_type": "execute_result"
    }
   ],
   "source": [
    "df_wasserkuppe.head()"
   ]
  },
  {
   "cell_type": "markdown",
   "metadata": {},
   "source": [
    "Beim Einlesen von Daten versucht Pandas, die Daten automatisch in ein Zahlenformat (Integer oder Floats) zu konvertieren. Mit df.dtypes erhalten wir den entsprechenden Datentyp. Für die Messparameter und das Datum ist das nicht gelungen. Für die Verarbeitungsschritte, die uns noch bevorstehen, ist dieses Format ungeeignet."
   ]
  },
  {
   "cell_type": "code",
   "execution_count": 14,
   "metadata": {},
   "outputs": [
    {
     "data": {
      "text/plain": [
       "Datum                        object\n",
       "Zeit                         object\n",
       "Kohlendioxid (CO2)[mg/m³]    object\n",
       "Temperatur[°C]               object\n",
       "Luftdruck[hPa]               object\n",
       "Windgeschwindigkeit[m/s]     object\n",
       "Windrichtung[Grad]           object\n",
       "Niederschlag[mm/30min]       object\n",
       "Globalstrahlung[W/m²]        object\n",
       "dtype: object"
      ]
     },
     "execution_count": 14,
     "metadata": {},
     "output_type": "execute_result"
    }
   ],
   "source": [
    "df_wasserkuppe.dtypes"
   ]
  },
  {
   "cell_type": "markdown",
   "metadata": {},
   "source": [
    "Die Dezimaltrennzeichen in Spalte Temperatur[°C] ',' mit '.' tauschen und erstelle eine neue Spalte Temperatur (df['Temperatur']). (x.replace)"
   ]
  },
  {
   "cell_type": "code",
   "execution_count": 15,
   "metadata": {},
   "outputs": [],
   "source": [
    "df_wasserkuppe['Temperatur'] = [x.replace(',' , '.') for x in df_wasserkuppe['Temperatur[°C]']]"
   ]
  },
  {
   "cell_type": "code",
   "execution_count": 16,
   "metadata": {},
   "outputs": [
    {
     "data": {
      "text/html": [
       "<div>\n",
       "<style scoped>\n",
       "    .dataframe tbody tr th:only-of-type {\n",
       "        vertical-align: middle;\n",
       "    }\n",
       "\n",
       "    .dataframe tbody tr th {\n",
       "        vertical-align: top;\n",
       "    }\n",
       "\n",
       "    .dataframe thead th {\n",
       "        text-align: right;\n",
       "    }\n",
       "</style>\n",
       "<table border=\"1\" class=\"dataframe\">\n",
       "  <thead>\n",
       "    <tr style=\"text-align: right;\">\n",
       "      <th></th>\n",
       "      <th>Datum</th>\n",
       "      <th>Zeit</th>\n",
       "      <th>Kohlendioxid (CO2)[mg/m³]</th>\n",
       "      <th>Temperatur[°C]</th>\n",
       "      <th>Luftdruck[hPa]</th>\n",
       "      <th>Windgeschwindigkeit[m/s]</th>\n",
       "      <th>Windrichtung[Grad]</th>\n",
       "      <th>Niederschlag[mm/30min]</th>\n",
       "      <th>Globalstrahlung[W/m²]</th>\n",
       "      <th>Temperatur</th>\n",
       "    </tr>\n",
       "  </thead>\n",
       "  <tbody>\n",
       "    <tr>\n",
       "      <th>0</th>\n",
       "      <td>05.07.2000</td>\n",
       "      <td>01:00</td>\n",
       "      <td>-</td>\n",
       "      <td>9,7</td>\n",
       "      <td>-</td>\n",
       "      <td>12,6</td>\n",
       "      <td>-</td>\n",
       "      <td>-</td>\n",
       "      <td>1</td>\n",
       "      <td>9.7</td>\n",
       "    </tr>\n",
       "    <tr>\n",
       "      <th>1</th>\n",
       "      <td>05.07.2000</td>\n",
       "      <td>02:00</td>\n",
       "      <td>-</td>\n",
       "      <td>9,8</td>\n",
       "      <td>-</td>\n",
       "      <td>10,8</td>\n",
       "      <td>-</td>\n",
       "      <td>-</td>\n",
       "      <td>1</td>\n",
       "      <td>9.8</td>\n",
       "    </tr>\n",
       "    <tr>\n",
       "      <th>2</th>\n",
       "      <td>05.07.2000</td>\n",
       "      <td>03:00</td>\n",
       "      <td>-</td>\n",
       "      <td>9,7</td>\n",
       "      <td>-</td>\n",
       "      <td>11,0</td>\n",
       "      <td>-</td>\n",
       "      <td>-</td>\n",
       "      <td>1</td>\n",
       "      <td>9.7</td>\n",
       "    </tr>\n",
       "    <tr>\n",
       "      <th>3</th>\n",
       "      <td>05.07.2000</td>\n",
       "      <td>04:00</td>\n",
       "      <td>-</td>\n",
       "      <td>9,4</td>\n",
       "      <td>-</td>\n",
       "      <td>12,8</td>\n",
       "      <td>-</td>\n",
       "      <td>-</td>\n",
       "      <td>1</td>\n",
       "      <td>9.4</td>\n",
       "    </tr>\n",
       "    <tr>\n",
       "      <th>4</th>\n",
       "      <td>05.07.2000</td>\n",
       "      <td>05:00</td>\n",
       "      <td>-</td>\n",
       "      <td>8,8</td>\n",
       "      <td>-</td>\n",
       "      <td>12,6</td>\n",
       "      <td>-</td>\n",
       "      <td>-</td>\n",
       "      <td>1</td>\n",
       "      <td>8.8</td>\n",
       "    </tr>\n",
       "  </tbody>\n",
       "</table>\n",
       "</div>"
      ],
      "text/plain": [
       "        Datum   Zeit Kohlendioxid (CO2)[mg/m³] Temperatur[°C] Luftdruck[hPa]  \\\n",
       "0  05.07.2000  01:00                         -            9,7              -   \n",
       "1  05.07.2000  02:00                         -            9,8              -   \n",
       "2  05.07.2000  03:00                         -            9,7              -   \n",
       "3  05.07.2000  04:00                         -            9,4              -   \n",
       "4  05.07.2000  05:00                         -            8,8              -   \n",
       "\n",
       "  Windgeschwindigkeit[m/s] Windrichtung[Grad] Niederschlag[mm/30min]  \\\n",
       "0                     12,6                  -                      -   \n",
       "1                     10,8                  -                      -   \n",
       "2                     11,0                  -                      -   \n",
       "3                     12,8                  -                      -   \n",
       "4                     12,6                  -                      -   \n",
       "\n",
       "  Globalstrahlung[W/m²] Temperatur  \n",
       "0                     1        9.7  \n",
       "1                     1        9.8  \n",
       "2                     1        9.7  \n",
       "3                     1        9.4  \n",
       "4                     1        8.8  "
      ]
     },
     "execution_count": 16,
     "metadata": {},
     "output_type": "execute_result"
    }
   ],
   "source": [
    "df_wasserkuppe.head()"
   ]
  },
  {
   "cell_type": "markdown",
   "metadata": {},
   "source": [
    "Die Datenreihe Luftdruck[hPa], Temperatur und Kohlendioxid (CO2)[mg/m³] von object zu float umwandeln, und erstelle eine neue Spalten namens Luftdruck, Temperatur und Kohlendioxid. (pd.to_numeric) Der Parameter errors='coerce' wandelt '-' und andere Parsingfehler zu NaN (Not a Number) um.\n",
    "\n",
    "Pandas-Operationen wie to_numeric arbeiten standardmäßig nicht \"in-place\". Deswegen werden die Ergebnisse, einer neuen Spalte zugewiesen.\n"
   ]
  },
  {
   "cell_type": "code",
   "execution_count": 17,
   "metadata": {},
   "outputs": [],
   "source": [
    "df_wasserkuppe['Luftdruck'] = pd.to_numeric(df_wasserkuppe['Luftdruck[hPa]'], errors = 'coerce')\n",
    "\n",
    "df_wasserkuppe['Temperatur'] = pd.to_numeric(df_wasserkuppe['Temperatur'], errors = 'coerce')\n",
    "\n",
    "df_wasserkuppe['Kohlendioxid'] = pd.to_numeric(df_wasserkuppe['Kohlendioxid (CO2)[mg/m³]'], errors = 'coerce')"
   ]
  },
  {
   "cell_type": "code",
   "execution_count": 18,
   "metadata": {},
   "outputs": [
    {
     "data": {
      "text/html": [
       "<div>\n",
       "<style scoped>\n",
       "    .dataframe tbody tr th:only-of-type {\n",
       "        vertical-align: middle;\n",
       "    }\n",
       "\n",
       "    .dataframe tbody tr th {\n",
       "        vertical-align: top;\n",
       "    }\n",
       "\n",
       "    .dataframe thead th {\n",
       "        text-align: right;\n",
       "    }\n",
       "</style>\n",
       "<table border=\"1\" class=\"dataframe\">\n",
       "  <thead>\n",
       "    <tr style=\"text-align: right;\">\n",
       "      <th></th>\n",
       "      <th>Datum</th>\n",
       "      <th>Zeit</th>\n",
       "      <th>Kohlendioxid (CO2)[mg/m³]</th>\n",
       "      <th>Temperatur[°C]</th>\n",
       "      <th>Luftdruck[hPa]</th>\n",
       "      <th>Windgeschwindigkeit[m/s]</th>\n",
       "      <th>Windrichtung[Grad]</th>\n",
       "      <th>Niederschlag[mm/30min]</th>\n",
       "      <th>Globalstrahlung[W/m²]</th>\n",
       "      <th>Temperatur</th>\n",
       "      <th>Luftdruck</th>\n",
       "      <th>Kohlendioxid</th>\n",
       "    </tr>\n",
       "  </thead>\n",
       "  <tbody>\n",
       "    <tr>\n",
       "      <th>0</th>\n",
       "      <td>05.07.2000</td>\n",
       "      <td>01:00</td>\n",
       "      <td>-</td>\n",
       "      <td>9,7</td>\n",
       "      <td>-</td>\n",
       "      <td>12,6</td>\n",
       "      <td>-</td>\n",
       "      <td>-</td>\n",
       "      <td>1</td>\n",
       "      <td>9.7</td>\n",
       "      <td>NaN</td>\n",
       "      <td>NaN</td>\n",
       "    </tr>\n",
       "    <tr>\n",
       "      <th>1</th>\n",
       "      <td>05.07.2000</td>\n",
       "      <td>02:00</td>\n",
       "      <td>-</td>\n",
       "      <td>9,8</td>\n",
       "      <td>-</td>\n",
       "      <td>10,8</td>\n",
       "      <td>-</td>\n",
       "      <td>-</td>\n",
       "      <td>1</td>\n",
       "      <td>9.8</td>\n",
       "      <td>NaN</td>\n",
       "      <td>NaN</td>\n",
       "    </tr>\n",
       "    <tr>\n",
       "      <th>2</th>\n",
       "      <td>05.07.2000</td>\n",
       "      <td>03:00</td>\n",
       "      <td>-</td>\n",
       "      <td>9,7</td>\n",
       "      <td>-</td>\n",
       "      <td>11,0</td>\n",
       "      <td>-</td>\n",
       "      <td>-</td>\n",
       "      <td>1</td>\n",
       "      <td>9.7</td>\n",
       "      <td>NaN</td>\n",
       "      <td>NaN</td>\n",
       "    </tr>\n",
       "    <tr>\n",
       "      <th>3</th>\n",
       "      <td>05.07.2000</td>\n",
       "      <td>04:00</td>\n",
       "      <td>-</td>\n",
       "      <td>9,4</td>\n",
       "      <td>-</td>\n",
       "      <td>12,8</td>\n",
       "      <td>-</td>\n",
       "      <td>-</td>\n",
       "      <td>1</td>\n",
       "      <td>9.4</td>\n",
       "      <td>NaN</td>\n",
       "      <td>NaN</td>\n",
       "    </tr>\n",
       "    <tr>\n",
       "      <th>4</th>\n",
       "      <td>05.07.2000</td>\n",
       "      <td>05:00</td>\n",
       "      <td>-</td>\n",
       "      <td>8,8</td>\n",
       "      <td>-</td>\n",
       "      <td>12,6</td>\n",
       "      <td>-</td>\n",
       "      <td>-</td>\n",
       "      <td>1</td>\n",
       "      <td>8.8</td>\n",
       "      <td>NaN</td>\n",
       "      <td>NaN</td>\n",
       "    </tr>\n",
       "  </tbody>\n",
       "</table>\n",
       "</div>"
      ],
      "text/plain": [
       "        Datum   Zeit Kohlendioxid (CO2)[mg/m³] Temperatur[°C] Luftdruck[hPa]  \\\n",
       "0  05.07.2000  01:00                         -            9,7              -   \n",
       "1  05.07.2000  02:00                         -            9,8              -   \n",
       "2  05.07.2000  03:00                         -            9,7              -   \n",
       "3  05.07.2000  04:00                         -            9,4              -   \n",
       "4  05.07.2000  05:00                         -            8,8              -   \n",
       "\n",
       "  Windgeschwindigkeit[m/s] Windrichtung[Grad] Niederschlag[mm/30min]  \\\n",
       "0                     12,6                  -                      -   \n",
       "1                     10,8                  -                      -   \n",
       "2                     11,0                  -                      -   \n",
       "3                     12,8                  -                      -   \n",
       "4                     12,6                  -                      -   \n",
       "\n",
       "  Globalstrahlung[W/m²]  Temperatur  Luftdruck  Kohlendioxid  \n",
       "0                     1         9.7        NaN           NaN  \n",
       "1                     1         9.8        NaN           NaN  \n",
       "2                     1         9.7        NaN           NaN  \n",
       "3                     1         9.4        NaN           NaN  \n",
       "4                     1         8.8        NaN           NaN  "
      ]
     },
     "execution_count": 18,
     "metadata": {},
     "output_type": "execute_result"
    }
   ],
   "source": [
    "df_wasserkuppe.head()"
   ]
  },
  {
   "cell_type": "code",
   "execution_count": 19,
   "metadata": {},
   "outputs": [
    {
     "data": {
      "text/html": [
       "<div>\n",
       "<style scoped>\n",
       "    .dataframe tbody tr th:only-of-type {\n",
       "        vertical-align: middle;\n",
       "    }\n",
       "\n",
       "    .dataframe tbody tr th {\n",
       "        vertical-align: top;\n",
       "    }\n",
       "\n",
       "    .dataframe thead th {\n",
       "        text-align: right;\n",
       "    }\n",
       "</style>\n",
       "<table border=\"1\" class=\"dataframe\">\n",
       "  <thead>\n",
       "    <tr style=\"text-align: right;\">\n",
       "      <th></th>\n",
       "      <th>Datum</th>\n",
       "      <th>Zeit</th>\n",
       "      <th>Kohlendioxid (CO2)[mg/m³]</th>\n",
       "      <th>Temperatur[°C]</th>\n",
       "      <th>Luftdruck[hPa]</th>\n",
       "      <th>Windgeschwindigkeit[m/s]</th>\n",
       "      <th>Windrichtung[Grad]</th>\n",
       "      <th>Niederschlag[mm/30min]</th>\n",
       "      <th>Globalstrahlung[W/m²]</th>\n",
       "      <th>Temperatur</th>\n",
       "      <th>Luftdruck</th>\n",
       "      <th>Kohlendioxid</th>\n",
       "    </tr>\n",
       "  </thead>\n",
       "  <tbody>\n",
       "    <tr>\n",
       "      <th>174595</th>\n",
       "      <td>04.06.2020</td>\n",
       "      <td>20:00</td>\n",
       "      <td>735</td>\n",
       "      <td>8,8</td>\n",
       "      <td>994</td>\n",
       "      <td>4,9</td>\n",
       "      <td>-</td>\n",
       "      <td>0,0</td>\n",
       "      <td>18</td>\n",
       "      <td>8.8</td>\n",
       "      <td>994.0</td>\n",
       "      <td>735.0</td>\n",
       "    </tr>\n",
       "    <tr>\n",
       "      <th>174596</th>\n",
       "      <td>04.06.2020</td>\n",
       "      <td>21:00</td>\n",
       "      <td>737</td>\n",
       "      <td>8,8</td>\n",
       "      <td>995</td>\n",
       "      <td>5,4</td>\n",
       "      <td>-</td>\n",
       "      <td>-</td>\n",
       "      <td>3</td>\n",
       "      <td>8.8</td>\n",
       "      <td>995.0</td>\n",
       "      <td>737.0</td>\n",
       "    </tr>\n",
       "    <tr>\n",
       "      <th>174597</th>\n",
       "      <td>04.06.2020</td>\n",
       "      <td>22:00</td>\n",
       "      <td>739</td>\n",
       "      <td>8,8</td>\n",
       "      <td>995</td>\n",
       "      <td>5,9</td>\n",
       "      <td>-</td>\n",
       "      <td>0,4</td>\n",
       "      <td>1</td>\n",
       "      <td>8.8</td>\n",
       "      <td>995.0</td>\n",
       "      <td>739.0</td>\n",
       "    </tr>\n",
       "    <tr>\n",
       "      <th>174598</th>\n",
       "      <td>04.06.2020</td>\n",
       "      <td>23:00</td>\n",
       "      <td>740</td>\n",
       "      <td>7,6</td>\n",
       "      <td>995</td>\n",
       "      <td>7,4</td>\n",
       "      <td>-</td>\n",
       "      <td>0,2</td>\n",
       "      <td>1</td>\n",
       "      <td>7.6</td>\n",
       "      <td>995.0</td>\n",
       "      <td>740.0</td>\n",
       "    </tr>\n",
       "    <tr>\n",
       "      <th>174599</th>\n",
       "      <td>04.06.2020</td>\n",
       "      <td>24:00</td>\n",
       "      <td>737</td>\n",
       "      <td>6,5</td>\n",
       "      <td>995</td>\n",
       "      <td>6,6</td>\n",
       "      <td>-</td>\n",
       "      <td>0,0</td>\n",
       "      <td>1</td>\n",
       "      <td>6.5</td>\n",
       "      <td>995.0</td>\n",
       "      <td>737.0</td>\n",
       "    </tr>\n",
       "  </tbody>\n",
       "</table>\n",
       "</div>"
      ],
      "text/plain": [
       "             Datum   Zeit Kohlendioxid (CO2)[mg/m³] Temperatur[°C]  \\\n",
       "174595  04.06.2020  20:00                       735            8,8   \n",
       "174596  04.06.2020  21:00                       737            8,8   \n",
       "174597  04.06.2020  22:00                       739            8,8   \n",
       "174598  04.06.2020  23:00                       740            7,6   \n",
       "174599  04.06.2020  24:00                       737            6,5   \n",
       "\n",
       "       Luftdruck[hPa] Windgeschwindigkeit[m/s] Windrichtung[Grad]  \\\n",
       "174595            994                      4,9                  -   \n",
       "174596            995                      5,4                  -   \n",
       "174597            995                      5,9                  -   \n",
       "174598            995                      7,4                  -   \n",
       "174599            995                      6,6                  -   \n",
       "\n",
       "       Niederschlag[mm/30min] Globalstrahlung[W/m²]  Temperatur  Luftdruck  \\\n",
       "174595                    0,0                    18         8.8      994.0   \n",
       "174596                      -                     3         8.8      995.0   \n",
       "174597                    0,4                     1         8.8      995.0   \n",
       "174598                    0,2                     1         7.6      995.0   \n",
       "174599                    0,0                     1         6.5      995.0   \n",
       "\n",
       "        Kohlendioxid  \n",
       "174595         735.0  \n",
       "174596         737.0  \n",
       "174597         739.0  \n",
       "174598         740.0  \n",
       "174599         737.0  "
      ]
     },
     "execution_count": 19,
     "metadata": {},
     "output_type": "execute_result"
    }
   ],
   "source": [
    "df_wasserkuppe.tail()"
   ]
  },
  {
   "cell_type": "code",
   "execution_count": 20,
   "metadata": {},
   "outputs": [
    {
     "data": {
      "text/plain": [
       "Datum                         object\n",
       "Zeit                          object\n",
       "Kohlendioxid (CO2)[mg/m³]     object\n",
       "Temperatur[°C]                object\n",
       "Luftdruck[hPa]                object\n",
       "Windgeschwindigkeit[m/s]      object\n",
       "Windrichtung[Grad]            object\n",
       "Niederschlag[mm/30min]        object\n",
       "Globalstrahlung[W/m²]         object\n",
       "Temperatur                   float64\n",
       "Luftdruck                    float64\n",
       "Kohlendioxid                 float64\n",
       "dtype: object"
      ]
     },
     "execution_count": 20,
     "metadata": {},
     "output_type": "execute_result"
    }
   ],
   "source": [
    "df_wasserkuppe.dtypes"
   ]
  },
  {
   "cell_type": "markdown",
   "metadata": {},
   "source": [
    "Für die weitere Datenverarbeitung, zum Beispiel für FP Prophet, wird ein bestimmtes Datumsformat benötigt. \n",
    "Zur 'Zeit'spalte wird \":00\" hinzugeügt, ohne Sekundenformat gibt es eine Fehlermeldung. [^1]\n",
    "\n",
    "Prophet ist eine Open-Source-Software, die vom Core Data Science-Team von Facebook veröffentlicht wurde. \n",
    "Prophet ist für die Prognose von Zeitreihendaten geeignet.\n"
   ]
  },
  {
   "cell_type": "code",
   "execution_count": 21,
   "metadata": {},
   "outputs": [],
   "source": [
    "df_wasserkuppe['Sekundenformat'] = df_wasserkuppe['Zeit'] + ':00'"
   ]
  },
  {
   "cell_type": "markdown",
   "metadata": {},
   "source": [
    "Die Pandas-Funktion to_datetime wird genutzt, um datumsspezifische Operationen durchführen zu können."
   ]
  },
  {
   "cell_type": "code",
   "execution_count": 22,
   "metadata": {},
   "outputs": [],
   "source": [
    "df_wasserkuppe['DatumYDM'] = pd.to_datetime(df_wasserkuppe.Datum)"
   ]
  },
  {
   "cell_type": "markdown",
   "metadata": {},
   "source": [
    "Pandas wird informiert, dass die zu lesenden Werte nacheinander Angaben zum Tag, Monat, Jahr beinhalten."
   ]
  },
  {
   "cell_type": "code",
   "execution_count": 23,
   "metadata": {},
   "outputs": [],
   "source": [
    "df_wasserkuppe[\"DatumMDY\"] = df_wasserkuppe[\"DatumYDM\"].dt.strftime(\"%d-%m-%y\")"
   ]
  },
  {
   "cell_type": "markdown",
   "metadata": {},
   "source": [
    "Die Spalte Sekundenformat in 0 Tage 01:00:00 wird umgewandelt. (zählt Stunden bis 24 und beginnt bei 0 Tage)"
   ]
  },
  {
   "cell_type": "code",
   "execution_count": 24,
   "metadata": {},
   "outputs": [],
   "source": [
    "df_wasserkuppe['Stundenzaehler'] = pd.to_timedelta(df_wasserkuppe.Sekundenformat)"
   ]
  },
  {
   "cell_type": "markdown",
   "metadata": {},
   "source": [
    "Zur Spalte DatumMDY die Spalte Stundenzaehler addiert = 2019-12-01 01:00:00"
   ]
  },
  {
   "cell_type": "code",
   "execution_count": 25,
   "metadata": {},
   "outputs": [],
   "source": [
    "df_wasserkuppe['DatumStundenzaehler'] = pd.to_datetime(df_wasserkuppe.DatumMDY) + pd.to_timedelta(df_wasserkuppe.Stundenzaehler)"
   ]
  },
  {
   "cell_type": "markdown",
   "metadata": {},
   "source": [
    "Das Datumsformat wird in 01-12-2019 01:00 umgwandelt"
   ]
  },
  {
   "cell_type": "code",
   "execution_count": 26,
   "metadata": {},
   "outputs": [],
   "source": [
    "df_wasserkuppe[\"DatumFinal\"] = df_wasserkuppe[\"DatumStundenzaehler\"].dt.strftime(\"%d-%m-%y %H:%M\")"
   ]
  },
  {
   "cell_type": "markdown",
   "metadata": {},
   "source": [
    "Die folgenden Spalten werden gelöscht:"
   ]
  },
  {
   "cell_type": "code",
   "execution_count": 27,
   "metadata": {},
   "outputs": [],
   "source": [
    "df_wasserkuppe = df_wasserkuppe.drop(columns = ['Datum', 'Zeit','Sekundenformat','Kohlendioxid (CO2)[mg/m³]','Temperatur[°C]','Luftdruck[hPa]','DatumYDM','DatumMDY','Stundenzaehler','DatumStundenzaehler'])\n",
    "df_wasserkuppe = df_wasserkuppe.drop(columns=['Windgeschwindigkeit[m/s]', 'Windrichtung[Grad]','Niederschlag[mm/30min]','Globalstrahlung[W/m²]'])"
   ]
  },
  {
   "cell_type": "markdown",
   "metadata": {},
   "source": [
    "Die Spalte DatumFinal in Datum umbenennen."
   ]
  },
  {
   "cell_type": "code",
   "execution_count": 28,
   "metadata": {},
   "outputs": [],
   "source": [
    "df_wasserkuppe = df_wasserkuppe.rename(columns={'DatumFinal' : 'Datum'})"
   ]
  },
  {
   "cell_type": "markdown",
   "metadata": {},
   "source": [
    "Die Spalte Datum als Index setzen, dadurch werden die Vorzüge der Datumsklasse genutzt."
   ]
  },
  {
   "cell_type": "code",
   "execution_count": 29,
   "metadata": {},
   "outputs": [],
   "source": [
    "df_wasserkuppe = df_wasserkuppe.set_index('Datum')"
   ]
  },
  {
   "cell_type": "markdown",
   "metadata": {},
   "source": [
    "Das Ergebnis: Das Datum wurde als nutzbares Datumsformat umgewandelt. Die Temperatur, Luftdruck und Kohlendioxid sind im Zahlenformat und NaN Werte für fehlende Daten."
   ]
  },
  {
   "cell_type": "code",
   "execution_count": 30,
   "metadata": {},
   "outputs": [
    {
     "data": {
      "text/html": [
       "<div>\n",
       "<style scoped>\n",
       "    .dataframe tbody tr th:only-of-type {\n",
       "        vertical-align: middle;\n",
       "    }\n",
       "\n",
       "    .dataframe tbody tr th {\n",
       "        vertical-align: top;\n",
       "    }\n",
       "\n",
       "    .dataframe thead th {\n",
       "        text-align: right;\n",
       "    }\n",
       "</style>\n",
       "<table border=\"1\" class=\"dataframe\">\n",
       "  <thead>\n",
       "    <tr style=\"text-align: right;\">\n",
       "      <th></th>\n",
       "      <th>Temperatur</th>\n",
       "      <th>Luftdruck</th>\n",
       "      <th>Kohlendioxid</th>\n",
       "    </tr>\n",
       "    <tr>\n",
       "      <th>Datum</th>\n",
       "      <th></th>\n",
       "      <th></th>\n",
       "      <th></th>\n",
       "    </tr>\n",
       "  </thead>\n",
       "  <tbody>\n",
       "    <tr>\n",
       "      <th>05-07-00 01:00</th>\n",
       "      <td>9.7</td>\n",
       "      <td>NaN</td>\n",
       "      <td>NaN</td>\n",
       "    </tr>\n",
       "    <tr>\n",
       "      <th>05-07-00 02:00</th>\n",
       "      <td>9.8</td>\n",
       "      <td>NaN</td>\n",
       "      <td>NaN</td>\n",
       "    </tr>\n",
       "    <tr>\n",
       "      <th>05-07-00 03:00</th>\n",
       "      <td>9.7</td>\n",
       "      <td>NaN</td>\n",
       "      <td>NaN</td>\n",
       "    </tr>\n",
       "    <tr>\n",
       "      <th>05-07-00 04:00</th>\n",
       "      <td>9.4</td>\n",
       "      <td>NaN</td>\n",
       "      <td>NaN</td>\n",
       "    </tr>\n",
       "    <tr>\n",
       "      <th>05-07-00 05:00</th>\n",
       "      <td>8.8</td>\n",
       "      <td>NaN</td>\n",
       "      <td>NaN</td>\n",
       "    </tr>\n",
       "  </tbody>\n",
       "</table>\n",
       "</div>"
      ],
      "text/plain": [
       "                Temperatur  Luftdruck  Kohlendioxid\n",
       "Datum                                              \n",
       "05-07-00 01:00         9.7        NaN           NaN\n",
       "05-07-00 02:00         9.8        NaN           NaN\n",
       "05-07-00 03:00         9.7        NaN           NaN\n",
       "05-07-00 04:00         9.4        NaN           NaN\n",
       "05-07-00 05:00         8.8        NaN           NaN"
      ]
     },
     "execution_count": 30,
     "metadata": {},
     "output_type": "execute_result"
    }
   ],
   "source": [
    "df_wasserkuppe.head()"
   ]
  },
  {
   "cell_type": "code",
   "execution_count": 31,
   "metadata": {},
   "outputs": [
    {
     "data": {
      "text/plain": [
       "Temperatur      float64\n",
       "Luftdruck       float64\n",
       "Kohlendioxid    float64\n",
       "dtype: object"
      ]
     },
     "execution_count": 31,
     "metadata": {},
     "output_type": "execute_result"
    }
   ],
   "source": [
    "df_wasserkuppe.dtypes"
   ]
  },
  {
   "cell_type": "code",
   "execution_count": 6,
   "metadata": {},
   "outputs": [
    {
     "name": "stdout",
     "output_type": "stream",
     "text": [
      "<class 'pandas.core.frame.DataFrame'>\n",
      "DatetimeIndex: 174600 entries, 2000-05-07 01:00:00 to 2020-05-06 00:00:00\n",
      "Data columns (total 4 columns):\n",
      " #   Column        Non-Null Count   Dtype  \n",
      "---  ------        --------------   -----  \n",
      " 0   Datum         174600 non-null  object \n",
      " 1   Temperatur    173564 non-null  float64\n",
      " 2   Luftdruck     76646 non-null   float64\n",
      " 3   Kohlendioxid  154136 non-null  float64\n",
      "dtypes: float64(3), object(1)\n",
      "memory usage: 6.7+ MB\n"
     ]
    }
   ],
   "source": [
    "df_wasserkuppe.info()"
   ]
  },
  {
   "cell_type": "markdown",
   "metadata": {},
   "source": [
    "Zusammenfassung:"
   ]
  },
  {
   "cell_type": "code",
   "execution_count": null,
   "metadata": {},
   "outputs": [],
   "source": [
    "df_wasserkuppe['Temperatur'] = [x.replace(',', '.') for x in df_wasserkuppe['Temperatur[°C]']]\n",
    "df_wasserkuppe['Luftdruck'] = pd.to_numeric(df_wasserkuppe['Luftdruck[hPa]'], errors='coerce')\n",
    "df_wasserkuppe['Temperatur'] = pd.to_numeric(df_wasserkuppe['Temperatur'], errors='coerce')\n",
    "df_wasserkuppe['Kohlendioxid'] = pd.to_numeric(df_wasserkuppe['Kohlendioxid (CO2)[mg/m³]'], errors='coerce')\n",
    "df_wasserkuppe['Sekundenformat'] = df_wasserkuppe['Zeit'] + ':00'\n",
    "df_wasserkuppe['DatumYDM'] = pd.to_datetime(df_wasserkuppe.Datum)\n",
    "df_wasserkuppe[\"DatumMDY\"] = df_wasserkuppe[\"DatumYDM\"].dt.strftime(\"%d-%m-%y\")\n",
    "df_wasserkuppe['Stundenzaehler'] = pd.to_timedelta(df_wasserkuppe.Sekundenformat)\n",
    "df_wasserkuppe['DatumStundenzaehler'] = pd.to_datetime(df_wasserkuppe.DatumMDY) + pd.to_timedelta(df_wasserkuppe.Stundenzaehler)\n",
    "df_wasserkuppe[\"DatumFinal\"] = df_wasserkuppe[\"DatumStundenzaehler\"].dt.strftime(\"%d-%m-%y %H:%M\")\n",
    "df_wasserkuppe = df_wasserkuppe.drop(columns=['Datum', 'Zeit','Sekundenformat','Kohlendioxid (CO2)[mg/m³]','Temperatur[°C]','Luftdruck[hPa]','DatumYDM','DatumMDY','Stundenzaehler','DatumStundenzaehler'])\n",
    "df_wasserkuppe = df_wasserkuppe.drop(columns=['Windgeschwindigkeit[m/s]', 'Windrichtung[Grad]','Niederschlag[mm/30min]','Globalstrahlung[W/m²]'])\n",
    "df_wasserkuppe = df_wasserkuppe.rename(columns={'DatumFinal': 'Datum'})\n",
    "df_wasserkuppe = df_wasserkuppe.set_index('Datum')\n",
    "df_wasserkuppe.head()"
   ]
  },
  {
   "cell_type": "markdown",
   "metadata": {},
   "source": [
    "Die Ergebnisse als csv speichern."
   ]
  },
  {
   "cell_type": "code",
   "execution_count": null,
   "metadata": {},
   "outputs": [],
   "source": [
    "df_wasserkuppe.to_csv('daten/wasserkuppe.csv')"
   ]
  },
  {
   "cell_type": "markdown",
   "metadata": {},
   "source": [
    "Quellenangaben:\n",
    "\n",
    "[^1]: Webseite: https://facebook.github.io/prophet/\n"
   ]
  }
 ],
 "metadata": {
  "kernelspec": {
   "display_name": "Python 3",
   "language": "python",
   "name": "python3"
  },
  "language_info": {
   "codemirror_mode": {
    "name": "ipython",
    "version": 3
   },
   "file_extension": ".py",
   "mimetype": "text/x-python",
   "name": "python",
   "nbconvert_exporter": "python",
   "pygments_lexer": "ipython3",
   "version": "3.7.6"
  }
 },
 "nbformat": 4,
 "nbformat_minor": 4
}
